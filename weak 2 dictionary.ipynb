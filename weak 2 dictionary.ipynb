{
 "cells": [
  {
   "cell_type": "code",
   "execution_count": 1,
   "id": "e591db82-2be0-4e7d-ac5b-d1dd5456ee57",
   "metadata": {},
   "outputs": [],
   "source": [
    "#dictionary:this is colllection on keys and value\n",
    "#used kurli brackets\n",
    "#key is always be unique\n",
    "#take any numeric balue\n",
    "#not any special char@,_,etc\n",
    "#special char used only in koolan\n"
   ]
  },
  {
   "cell_type": "code",
   "execution_count": 11,
   "id": "93234d65-f3e3-4688-977e-a9d72b88fb7d",
   "metadata": {},
   "outputs": [],
   "source": [
    "e = {}"
   ]
  },
  {
   "cell_type": "code",
   "execution_count": 12,
   "id": "e86646c7-84fc-4f07-8749-3bf778a37e87",
   "metadata": {},
   "outputs": [
    {
     "data": {
      "text/plain": [
       "dict"
      ]
     },
     "execution_count": 12,
     "metadata": {},
     "output_type": "execute_result"
    }
   ],
   "source": [
    "type(e)"
   ]
  },
  {
   "cell_type": "code",
   "execution_count": 17,
   "id": "9cb23190-9f5e-4fd8-b424-edd1c9a63742",
   "metadata": {},
   "outputs": [],
   "source": [
    "d1={\"key\" :\"sudh\"}"
   ]
  },
  {
   "cell_type": "code",
   "execution_count": 21,
   "id": "c5224df9-f993-4817-b6c4-eff5607bf8e2",
   "metadata": {},
   "outputs": [],
   "source": [
    "d2={\"name\":\"sudhansu\",\"email\":\"ys098@gmail.com\",\"number\":4324324}"
   ]
  },
  {
   "cell_type": "code",
   "execution_count": 22,
   "id": "8707ec4d-6a72-4a47-8ca5-7d7425ae5d42",
   "metadata": {},
   "outputs": [
    {
     "data": {
      "text/plain": [
       "{'name': 'sudhansu', 'email': 'ys098@gmail.com', 'number': 4324324}"
      ]
     },
     "execution_count": 22,
     "metadata": {},
     "output_type": "execute_result"
    }
   ],
   "source": [
    "d2"
   ]
  },
  {
   "cell_type": "code",
   "execution_count": 29,
   "id": "ba98b78c-ba34-47f4-8cef-89aec77f55a9",
   "metadata": {},
   "outputs": [],
   "source": [
    "d3={342:\"sudh\",\"@g\":\"frw\",True:4324}"
   ]
  },
  {
   "cell_type": "code",
   "execution_count": 30,
   "id": "555443e2-1083-43cd-8e31-977b5352c203",
   "metadata": {},
   "outputs": [
    {
     "data": {
      "text/plain": [
       "{342: 'sudh', '@g': 'frw', True: 4324}"
      ]
     },
     "execution_count": 30,
     "metadata": {},
     "output_type": "execute_result"
    }
   ],
   "source": [
    "d3"
   ]
  },
  {
   "cell_type": "code",
   "execution_count": 32,
   "id": "2bdd160c-01a9-4b13-bade-b8e391c0e025",
   "metadata": {},
   "outputs": [
    {
     "data": {
      "text/plain": [
       "'sudh'"
      ]
     },
     "execution_count": 32,
     "metadata": {},
     "output_type": "execute_result"
    }
   ],
   "source": [
    "d3[342]"
   ]
  },
  {
   "cell_type": "code",
   "execution_count": 33,
   "id": "1406b9e6-034d-4f9f-b519-51ace4a4a420",
   "metadata": {},
   "outputs": [
    {
     "data": {
      "text/plain": [
       "4324"
      ]
     },
     "execution_count": 33,
     "metadata": {},
     "output_type": "execute_result"
    }
   ],
   "source": [
    "d3[True]"
   ]
  },
  {
   "cell_type": "code",
   "execution_count": 34,
   "id": "c96510fc-8e9a-4e6b-9ee5-2be458664863",
   "metadata": {},
   "outputs": [
    {
     "data": {
      "text/plain": [
       "4324"
      ]
     },
     "execution_count": 34,
     "metadata": {},
     "output_type": "execute_result"
    }
   ],
   "source": [
    "d3[1]"
   ]
  },
  {
   "cell_type": "code",
   "execution_count": 44,
   "id": "afdc20f9-60db-4836-be6c-f3c5988748f0",
   "metadata": {},
   "outputs": [],
   "source": [
    "d4 = {'name':'sudh','email':'fsf@gmail.com','name':'sudhanshu',\"name\":\"fsdfdsf\"}"
   ]
  },
  {
   "cell_type": "code",
   "execution_count": 45,
   "id": "3d5e71d1-dd3a-4343-b68c-f74e40433745",
   "metadata": {},
   "outputs": [
    {
     "data": {
      "text/plain": [
       "'fsdfdsf'"
      ]
     },
     "execution_count": 45,
     "metadata": {},
     "output_type": "execute_result"
    }
   ],
   "source": [
    "d4['name']"
   ]
  },
  {
   "cell_type": "code",
   "execution_count": 4,
   "id": "01ad0dd9-c6eb-4f80-a895-6b966324031e",
   "metadata": {},
   "outputs": [],
   "source": [
    "#dic with list\n",
    "d5={\"company\":\"pwskills\",\"course\":[\"web dev\",\"Fdf\",\"Fdsdf\"]}"
   ]
  },
  {
   "cell_type": "code",
   "execution_count": 48,
   "id": "012fba1e-6bac-474a-99d9-d4683f262310",
   "metadata": {},
   "outputs": [
    {
     "data": {
      "text/plain": [
       "['web dev', 'Fdf', 'Fdsdf']"
      ]
     },
     "execution_count": 48,
     "metadata": {},
     "output_type": "execute_result"
    }
   ],
   "source": [
    "d5[\"course\"]"
   ]
  },
  {
   "cell_type": "code",
   "execution_count": 50,
   "id": "926dcce9-4ee1-456e-b118-219ab3c59e7f",
   "metadata": {},
   "outputs": [
    {
     "data": {
      "text/plain": [
       "'Fdf'"
      ]
     },
     "execution_count": 50,
     "metadata": {},
     "output_type": "execute_result"
    }
   ],
   "source": [
    "d5[\"course\"][1]"
   ]
  },
  {
   "cell_type": "code",
   "execution_count": 57,
   "id": "8b8e32ab-b0a1-4079-9bdc-ebab97355ab0",
   "metadata": {},
   "outputs": [],
   "source": [
    "#dic with list tuple and set\n",
    "#dic with di\n",
    "d6={\"number\":[2,4324,23432,45243],\"assignment\":(1,2,3,4,5,6),\"laugh_date\":{28,12,4}  ,\"class\":{\"web_dev\":3}}"
   ]
  },
  {
   "cell_type": "code",
   "execution_count": 2,
   "id": "5b912478-24a6-42d0-8ffa-5cd4d03c81ec",
   "metadata": {},
   "outputs": [
    {
     "ename": "NameError",
     "evalue": "name 'd6' is not defined",
     "output_type": "error",
     "traceback": [
      "\u001b[0;31m---------------------------------------------------------------------------\u001b[0m",
      "\u001b[0;31mNameError\u001b[0m                                 Traceback (most recent call last)",
      "Cell \u001b[0;32mIn[2], line 1\u001b[0m\n\u001b[0;32m----> 1\u001b[0m \u001b[43md6\u001b[49m\n",
      "\u001b[0;31mNameError\u001b[0m: name 'd6' is not defined"
     ]
    }
   ],
   "source": [
    "d6"
   ]
  },
  {
   "cell_type": "code",
   "execution_count": 5,
   "id": "009aeabd-be86-4d4e-b764-2365c04e1fa8",
   "metadata": {},
   "outputs": [
    {
     "ename": "TypeError",
     "evalue": "pop expected at least 1 argument, got 0",
     "output_type": "error",
     "traceback": [
      "\u001b[0;31m---------------------------------------------------------------------------\u001b[0m",
      "\u001b[0;31mTypeError\u001b[0m                                 Traceback (most recent call last)",
      "Cell \u001b[0;32mIn[5], line 1\u001b[0m\n\u001b[0;32m----> 1\u001b[0m \u001b[43md5\u001b[49m\u001b[38;5;241;43m.\u001b[39;49m\u001b[43mpop\u001b[49m\u001b[43m(\u001b[49m\u001b[43m)\u001b[49m\n",
      "\u001b[0;31mTypeError\u001b[0m: pop expected at least 1 argument, got 0"
     ]
    }
   ],
   "source": [
    "d5.pop()"
   ]
  },
  {
   "cell_type": "code",
   "execution_count": 9,
   "id": "4bc0f0b4-fecd-4378-b9ac-90ad494c733c",
   "metadata": {},
   "outputs": [],
   "source": [
    "d2={\"fs\":\"dsf\"}"
   ]
  },
  {
   "cell_type": "code",
   "execution_count": 10,
   "id": "4959f956-9289-4ec9-9821-8e5fc6dc4906",
   "metadata": {},
   "outputs": [
    {
     "data": {
      "text/plain": [
       "'dsf'"
      ]
     },
     "execution_count": 10,
     "metadata": {},
     "output_type": "execute_result"
    }
   ],
   "source": [
    "d2.pop(\"fs\")"
   ]
  },
  {
   "cell_type": "code",
   "execution_count": 11,
   "id": "7272ef7d-9bb1-4630-abe2-4dd98829ef79",
   "metadata": {},
   "outputs": [
    {
     "data": {
      "text/plain": [
       "{}"
      ]
     },
     "execution_count": 11,
     "metadata": {},
     "output_type": "execute_result"
    }
   ],
   "source": [
    "d2"
   ]
  },
  {
   "cell_type": "code",
   "execution_count": 12,
   "id": "5f521cd3-72da-473c-a9b1-bec505c033a7",
   "metadata": {},
   "outputs": [],
   "source": [
    "#condition "
   ]
  },
  {
   "cell_type": "code",
   "execution_count": 40,
   "id": "89b1ae14-0fa1-4158-a51c-a82fe3306ea5",
   "metadata": {},
   "outputs": [
    {
     "name": "stdin",
     "output_type": "stream",
     "text": [
      "enter input 32\n"
     ]
    }
   ],
   "source": []
  },
  {
   "cell_type": "code",
   "execution_count": 41,
   "id": "dfffc436-274c-4250-98ee-786eeb692a7b",
   "metadata": {},
   "outputs": [
    {
     "name": "stdin",
     "output_type": "stream",
     "text": [
      "enter input 32\n"
     ]
    },
    {
     "name": "stdout",
     "output_type": "stream",
     "text": [
      "you wiill be go the 45\n"
     ]
    }
   ],
   "source": [
    "a=float(input(\"enter input\"))\n",
    "if a >= 80:\n",
    "    print(\"go to the specil\")\n",
    "elif a >= 60  and a<80:\n",
    "    print(\"go to the average\")\n",
    "elif a >= 40 and a < 60:\n",
    "    print(\"go the 34\")\n",
    "else:\n",
    "    print(\"you wiill be go the 45\")\n",
    "    "
   ]
  },
  {
   "cell_type": "code",
   "execution_count": 39,
   "id": "91178843-452d-4842-af15-60b5e713cd39",
   "metadata": {},
   "outputs": [
    {
     "name": "stdout",
     "output_type": "stream",
     "text": [
      "go to the average\n"
     ]
    }
   ],
   "source": [
    "if a >= 80:\n",
    "    print(\"go to the specil\")\n",
    "elif a >= 60  or a<80:\n",
    "    print(\"go to the average\")\n",
    "elif a >= 40 or a < 60:\n",
    "    print(\"go the 34\")\n",
    "else:\n",
    "    print(\"you wiill be go the 45\")"
   ]
  },
  {
   "cell_type": "code",
   "execution_count": 42,
   "id": "49e6c5f2-5d86-4225-8444-b5933e9b4b05",
   "metadata": {},
   "outputs": [],
   "source": [
    "#purmuation combination: \n"
   ]
  },
  {
   "cell_type": "code",
   "execution_count": 54,
   "id": "f78777f6-d528-4cab-a346-fa20e31a900e",
   "metadata": {},
   "outputs": [
    {
     "name": "stdin",
     "output_type": "stream",
     "text": [
      " 23311\n"
     ]
    },
    {
     "name": "stdout",
     "output_type": "stream",
     "text": [
      "i will not purchase\n",
      "this is too much\n"
     ]
    }
   ],
   "source": [
    "a = int(input(\"\"))\n",
    "if a > 1000:\n",
    "    print(\"i will not purchase\")\n",
    "    if a>5000:\n",
    "        print(\"this is too much\")\n",
    "    elif a > 2000:\n",
    "        print(\"its okku\")\n",
    "elif a<1000:\n",
    "    print(\"will purcharce\")\n",
    "else: \n",
    "    print(\" will purchase\")"
   ]
  },
  {
   "cell_type": "code",
   "execution_count": 1,
   "id": "ef1a3f2c-ec57-48e9-9fad-d89aaa294c38",
   "metadata": {},
   "outputs": [],
   "source": [
    "#looping\n"
   ]
  },
  {
   "cell_type": "code",
   "execution_count": 12,
   "id": "bcbd8e5d-3489-4c89-af26-8bc10f46fc23",
   "metadata": {},
   "outputs": [],
   "source": [
    "l=[1,2,3,4,5,6,7,8]\n"
   ]
  },
  {
   "cell_type": "code",
   "execution_count": 5,
   "id": "c42ef3d2-8824-4cf7-a901-d394b2e977b8",
   "metadata": {},
   "outputs": [
    {
     "data": {
      "text/plain": [
       "2"
      ]
     },
     "execution_count": 5,
     "metadata": {},
     "output_type": "execute_result"
    }
   ],
   "source": [
    "l[0]+1"
   ]
  },
  {
   "cell_type": "code",
   "execution_count": 9,
   "id": "be096a45-c948-474a-a02c-216505579917",
   "metadata": {},
   "outputs": [],
   "source": [
    "l1=[]"
   ]
  },
  {
   "cell_type": "code",
   "execution_count": 17,
   "id": "269f1c49-0dfa-4790-850c-c94a4cf982fb",
   "metadata": {},
   "outputs": [],
   "source": [
    "l1.append(l[0]+1)"
   ]
  },
  {
   "cell_type": "code",
   "execution_count": 18,
   "id": "b3cb9f08-18a4-48a2-9dc2-af4f2cc7eab4",
   "metadata": {},
   "outputs": [
    {
     "data": {
      "text/plain": [
       "[2]"
      ]
     },
     "execution_count": 18,
     "metadata": {},
     "output_type": "execute_result"
    }
   ],
   "source": [
    "l1"
   ]
  },
  {
   "cell_type": "code",
   "execution_count": 37,
   "id": "f7459209-2c95-4907-8616-bf0cc874356e",
   "metadata": {},
   "outputs": [
    {
     "name": "stdout",
     "output_type": "stream",
     "text": [
      "2\n",
      "3\n",
      "4\n",
      "5\n",
      "6\n",
      "7\n",
      "8\n",
      "9\n"
     ]
    }
   ],
   "source": [
    "l1=[]\n",
    "for i in l:\n",
    "    \n",
    "    print(i+1)\n",
    "    l1.append(i+1)\n"
   ]
  },
  {
   "cell_type": "code",
   "execution_count": 38,
   "id": "f509a23c-2624-4079-9f0e-0adde5442db1",
   "metadata": {},
   "outputs": [
    {
     "data": {
      "text/plain": [
       "[2, 3, 4, 5, 6, 7, 8, 9]"
      ]
     },
     "execution_count": 38,
     "metadata": {},
     "output_type": "execute_result"
    }
   ],
   "source": [
    "l1"
   ]
  },
  {
   "cell_type": "code",
   "execution_count": 41,
   "id": "41c58660-6b4b-4c7c-9c1d-4faf40568edd",
   "metadata": {},
   "outputs": [],
   "source": [
    "l = [\"sudh\",\"kumar\",\"pwskills\",\"course\"]\n"
   ]
  },
  {
   "cell_type": "code",
   "execution_count": 49,
   "id": "f2e4dede-b4ef-48d5-b4b6-f956f6c1e6cb",
   "metadata": {},
   "outputs": [
    {
     "name": "stdout",
     "output_type": "stream",
     "text": [
      "Sudh\n",
      "kumar\n",
      "pwskills\n",
      "course\n"
     ]
    }
   ],
   "source": [
    "l1=[]\n",
    "for i in l:\n",
    "    print(i)\n",
    "    l1.append(i.upper())\n",
    "    "
   ]
  },
  {
   "cell_type": "code",
   "execution_count": 47,
   "id": "c289d4c1-93de-4449-9378-4b94d4db3616",
   "metadata": {},
   "outputs": [
    {
     "data": {
      "text/plain": [
       "['SUDH', 'KUMAR', 'PWSKILLS', 'COURSE']"
      ]
     },
     "execution_count": 47,
     "metadata": {},
     "output_type": "execute_result"
    }
   ],
   "source": [
    "l1"
   ]
  },
  {
   "cell_type": "code",
   "execution_count": 51,
   "id": "24325d2d-518e-45c8-94b8-92f88d28ce36",
   "metadata": {},
   "outputs": [],
   "source": [
    "l = [1,2,3,4,4,\"sudh\",\"kumar\",34423,332.4,\"abc\"]"
   ]
  },
  {
   "cell_type": "code",
   "execution_count": 65,
   "id": "98e654a6-4b89-4757-9bf4-9404ed68d17d",
   "metadata": {},
   "outputs": [],
   "source": [
    "l1_num=[]\n",
    "l2_str=[]\n",
    "for i in l:\n",
    "    if type(i)==int or type(i)==float:\n",
    "        l1.append(i)\n",
    "    else:\n",
    "        l2.append(i)\n",
    "    "
   ]
  },
  {
   "cell_type": "code",
   "execution_count": 66,
   "id": "093c60a3-64eb-412d-922f-c16edf6701e9",
   "metadata": {},
   "outputs": [
    {
     "data": {
      "text/plain": [
       "['sudh', 'kumar', 'abc']"
      ]
     },
     "execution_count": 66,
     "metadata": {},
     "output_type": "execute_result"
    }
   ],
   "source": [
    "l1\n",
    "l2\n"
   ]
  },
  {
   "cell_type": "code",
   "execution_count": null,
   "id": "14289f50-6376-4865-9310-24bafe15a177",
   "metadata": {},
   "outputs": [],
   "source": []
  }
 ],
 "metadata": {
  "kernelspec": {
   "display_name": "Python 3 (ipykernel)",
   "language": "python",
   "name": "python3"
  },
  "language_info": {
   "codemirror_mode": {
    "name": "ipython",
    "version": 3
   },
   "file_extension": ".py",
   "mimetype": "text/x-python",
   "name": "python",
   "nbconvert_exporter": "python",
   "pygments_lexer": "ipython3",
   "version": "3.10.8"
  }
 },
 "nbformat": 4,
 "nbformat_minor": 5
}
